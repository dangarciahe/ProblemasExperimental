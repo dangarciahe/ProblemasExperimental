{
 "cells": [
  {
   "cell_type": "code",
   "execution_count": null,
   "id": "98e43ea2-1071-4c18-911d-8d79655e15e9",
   "metadata": {},
   "outputs": [],
   "source": [
    "import pandas as pd\n",
    "import uncertainties as un\n",
    "import matplotlib.pyplot as plt\n",
    "import numpy as np"
   ]
  }
 ],
 "metadata": {
  "kernelspec": {
   "display_name": "Python 3 (ipykernel)",
   "language": "python",
   "name": "python3"
  },
  "language_info": {
   "codemirror_mode": {
    "name": "ipython",
    "version": 3
   },
   "file_extension": ".py",
   "mimetype": "text/x-python",
   "name": "python",
   "nbconvert_exporter": "python",
   "pygments_lexer": "ipython3",
   "version": "3.9.12"
  }
 },
 "nbformat": 4,
 "nbformat_minor": 5
}
