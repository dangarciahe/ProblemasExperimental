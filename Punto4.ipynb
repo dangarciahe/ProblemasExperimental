{
 "cells": [
  {
   "cell_type": "markdown",
   "id": "39630074-b165-4958-8422-bd39e52e5494",
   "metadata": {},
   "source": [
    "## 4. Ajuste de la gaussiana\n",
    "\n",
    "**1. Grafique los datos**"
   ]
  },
  {
   "cell_type": "code",
   "execution_count": 1,
   "id": "9fbf159f-db76-4275-846a-ea42fc268203",
   "metadata": {},
   "outputs": [],
   "source": [
    "import pandas as pd\n",
    "import uncertainties as un\n",
    "from uncertainties import umath\n",
    "from uncertainties import ufloat\n",
    "import matplotlib.pyplot as plt\n",
    "import numpy as np"
   ]
  },
  {
   "cell_type": "code",
   "execution_count": 2,
   "id": "eca4280b-5bc2-4147-83c4-a1cb742dc555",
   "metadata": {},
   "outputs": [],
   "source": [
    "df = pd.read_csv(\"gauss+recta+incert.csv\")\n",
    "x = df.iloc[:,0].to_numpy()\n",
    "y = df.iloc[:,1].to_numpy()\n",
    "dy = df.iloc[:,2].to_numpy()\n"
   ]
  },
  {
   "cell_type": "code",
   "execution_count": 13,
   "id": "0f9706b7-128a-4488-bd46-5f568863fc03",
   "metadata": {},
   "outputs": [
    {
     "data": {
      "image/png": "[encoded data removed]",
      "text/plain": [
       "<Figure size 360x360 with 1 Axes>"
      ]
     },
     "metadata": {
      "needs_background": "light"
     },
     "output_type": "display_data"
    },
    {
     "name": "stdout",
     "output_type": "stream",
     "text": [
      "(29,)\n"
     ]
    }
   ],
   "source": [
    "from matplotlib.collections import EventCollection\n",
    "\n",
    "fig, ax = plt.subplots(figsize = (5,5))\n",
    "ax.scatter(x, y, s = 15, color = \"purple\")\n",
    "ax.errorbar(x, y, yerr = dy, fmt = \"none\", color = \"purple\")\n",
    "ax.set_xticks(np.arange(100, 200, 10))\n",
    "ax.set_xlim((105, 185))\n",
    "\n",
    "xevents = EventCollection(x, color = \"k\", linelength = int(10100), linewidth = 1)\n",
    "ax.add_collection(xevents)\n",
    "ax.grid(True, axis = \"both\")\n",
    "\n",
    "plt.show()"
   ]
  },
  {
   "cell_type": "markdown",
   "id": "2c4f301a-f0ec-4a95-9ad6-7f1f252cbf15",
   "metadata": {},
   "source": [
    "Según la grilla tenemos que la media es\n",
    "\n",
    "\\begin{equation}\n",
    "\\begin{split}\n",
    "    \\mu \\approx 152.5 \\text{cm}\\,,\\\\\n",
    "\\end{split}\n",
    "\\end{equation}\n",
    "\n",
    "Ahora, para determinar los parámetros de la función recta de fondo de la gaussiana tomamos dos puntos de los extremos de la gráfica para los cuales la influencia de la función gaussiana sería reducida y calculamos a partir de ellos la pediente de la recta\n",
    "\n",
    "\\begin{equation}\n",
    "\\begin{split}\n",
    "    b_1 = \\frac{y_{1} - y_{0}}{x_{1}-x_{0}}\n",
    "\\end{split}\n",
    "\\end{equation}"
   ]
  },
  {
   "cell_type": "code",
   "execution_count": 9,
   "id": "a6a0a1fc-ca15-496d-97d7-344b8e4675fc",
   "metadata": {},
   "outputs": [
    {
     "name": "stdout",
     "output_type": "stream",
     "text": [
      "b1 = -12+/-2\n"
     ]
    }
   ],
   "source": [
    "y0 = ufloat(y[0], dy[0])\n",
    "y1 = ufloat(y[-1], dy[-1])\n",
    "x0 = x[0]\n",
    "x1 = x[-1]\n",
    "\n",
    "b1 = (y1-y0)/(x1-x0)\n",
    "print(f\"b1 = {b1:1.0f}\")"
   ]
  },
  {
   "cell_type": "markdown",
   "id": "22db0d67-5029-44eb-8c49-19b3545b08ab",
   "metadata": {},
   "source": [
    "Con esto, tenemos que, para un valor conocido como en el valor extremo utilizado para hallar la pediente \n",
    "\n",
    "\\begin{equation}\n",
    "\\begin{split}\n",
    "    y_1 \\approx &  r(x_1) = b_0 + b_1(x_1 - \\mu)\\,,\\\\\n",
    "    b_0 =& y_1 - b_1(x_1 - \\mu)\\,,\n",
    "\\end{split}\n",
    "\\end{equation}\n",
    "\n",
    "tal que"
   ]
  },
  {
   "cell_type": "code",
   "execution_count": 10,
   "id": "1019d986-a99f-4eff-b9a1-212f31e27b9b",
   "metadata": {},
   "outputs": [
    {
     "name": "stdout",
     "output_type": "stream",
     "text": [
      "b0 = 5486+/-57\n"
     ]
    }
   ],
   "source": [
    "μ = 152.5\n",
    "b0 = y1 - b1*(x1-μ)\n",
    "print(f\"b0 = {b0:1.0f}\")"
   ]
  },
  {
   "cell_type": "markdown",
   "id": "6fadfb90-2679-43e6-9ec1-da13ac67cdb0",
   "metadata": {},
   "source": [
    "Ahora, la altura desde la base gaussiana hasta su máximo está dada como\n",
    "\n",
    "\\begin{equation}\n",
    "    M = f(\\mu)-b_0\n",
    "\\end{equation}\n",
    "\n",
    "con lo que con el valor de la media aproximado, buscamos el valor correspondiente en la gaussiana como"
   ]
  },
  {
   "cell_type": "code",
   "execution_count": 11,
   "id": "8c2b3683-03da-43b0-8309-5b66b5666629",
   "metadata": {},
   "outputs": [
    {
     "name": "stdout",
     "output_type": "stream",
     "text": [
      "f(μ) = 6348+/-17\n",
      "M = 862+/-60\n"
     ]
    }
   ],
   "source": [
    "for i in range(len(y)):\n",
    "    imax = i\n",
    "    if x[i]>152:\n",
    "        break\n",
    "        \n",
    "fμ = ufloat(y[imax], dy[imax])\n",
    "\n",
    "print(r\"f(μ)\"+f\" = {fμ:1.0f}\")\n",
    "\n",
    "M = fμ-b0\n",
    "\n",
    "print(f\"M = {M:1.0f}\")"
   ]
  },
  {
   "cell_type": "markdown",
   "id": "038e062a-019d-4554-94f8-9e666382ea0f",
   "metadata": {},
   "source": [
    "Luego, con todos estos valores despejamos la desviación estándar para el valor de $x_g$, el cual es un valor de x tal que la contribución gaussiana se vuelve en notable en los datos, diferente a la media\n",
    "\n",
    "\\begin{equation}\n",
    "\\begin{split}\n",
    "    f(x_g) = y_g =& M \\exp\\Big[-\\frac{1}{2}\\Big(\\frac{x_g-\\mu}{\\sigma}\\Big)^2\\Big]+ b_0 + b_1 (x_g-\\mu)\\,,\\\\\n",
    "    M \\exp\\Big[-\\frac{1}{2}\\Big(\\frac{x_g-\\mu}{\\sigma}\\Big)^2\\Big] =& y_g - b_0 - b_1 (x_g-\\mu)\\,,\\\\\n",
    "    \\ln(M) - \\frac{1}{2}\\Big(\\frac{x_g-\\mu}{\\sigma}\\Big)^2 =& \\ln(y_g - b_0 - b_1 (x_g-\\mu))\\,,\\\\\n",
    "    \\ln(M)- \\ln(y_g - b_0 - b_1 (x_g-\\mu)) =& \\frac{1}{2}\\Big(\\frac{x_g-\\mu}{\\sigma}\\Big)^2\\,,\\\\\n",
    "    \\Big(\\frac{x_g-\\mu}{\\sigma}\\Big) =& \\sqrt{2\\Big\\{\\ln(M)- \\ln(y_g - b_0 - b_1 (x_g-\\mu))\\Big\\}}\\,,\\\\\n",
    "    \\sigma =& \\frac{x_g-\\mu}{\\sqrt{2\\Big\\{\\ln(M)- \\ln(y_g - b_0 - b_1 (x_g-\\mu))\\Big\\}}}\\,,\n",
    "\\end{split}\n",
    "\\end{equation}\n",
    "\n",
    "Tal que"
   ]
  },
  {
   "cell_type": "code",
   "execution_count": null,
   "id": "61d72635-0602-4beb-bf06-1e85b9e063b7",
   "metadata": {},
   "outputs": [],
   "source": []
  },
  {
   "cell_type": "markdown",
   "id": "bdbb1923-7bb5-4eb8-9284-997a24f10531",
   "metadata": {},
   "source": [
    "Sabemos que para $M/2$ el ancho de la función de gauss es de $2\\sigma$, luego, tomando la base de la recta tal que la mitad de la gaussiana se encuentre en\n",
    "\n",
    "\\begin{equation}\n",
    "\\begin{split}\n",
    "    r_{1/2} =& \\Big[\\frac{M}{2}+b_0\\big] + b_1(x-\\mu)\\,,\\\\\n",
    "\\end{split}\n",
    "\\end{equation}\n",
    "\n",
    "tal que los datos más cercanos a esta recta serán los tomados para calcular \"a ojo\" el valor de $\\sigma$"
   ]
  },
  {
   "cell_type": "code",
   "execution_count": 58,
   "id": "8d2c8486-3f7b-46c1-aaed-aa67b1d239ce",
   "metadata": {},
   "outputs": [
    {
     "data": {
      "image/png": "[encoded data removed]",
      "text/plain": [
       "<Figure size 360x360 with 1 Axes>"
      ]
     },
     "metadata": {
      "needs_background": "light"
     },
     "output_type": "display_data"
    }
   ],
   "source": [
    "\n",
    "def midle_line(X):\n",
    "    return M.nominal_value/2 + b0.nominal_value + b1.nominal_value*(X - μ)\n",
    "    \n",
    "\n",
    "xg = np.linspace(105, 195, 1000)\n",
    "yg = midle_line(xg)\n",
    "\n",
    "fig, ax = plt.subplots(figsize = (5,5))\n",
    "ax.plot(xg, yg)\n",
    "ax.scatter(x, y, s = 15, color = \"purple\")\n",
    "ax.errorbar(x, y, yerr = dy, fmt = \"none\", color = \"purple\")\n",
    "ax.set_xticks(np.arange(100, 200, 10))\n",
    "ax.set_xlim((105, 185))\n",
    "\n",
    "xevents = EventCollection(x, color = \"k\", linelength = int(10100), linewidth = 1)\n",
    "ax.add_collection(xevents)\n",
    "ax.grid(True, axis = \"both\")\n",
    "\n",
    "plt.show()"
   ]
  },
  {
   "cell_type": "code",
   "execution_count": 67,
   "id": "a62c784b-af84-45cd-b0c3-d8d8a2f778fe",
   "metadata": {},
   "outputs": [
    {
     "name": "stdout",
     "output_type": "stream",
     "text": [
      "σ = 6.25\n"
     ]
    }
   ],
   "source": [
    "for i in range(len(x)):\n",
    "    imin2 = i\n",
    "    if x[i]>144:\n",
    "        break\n",
    "        \n",
    "for i in range(len(x)):\n",
    "    ipos2 = i\n",
    "    if x[i]>156:\n",
    "        break\n",
    "        \n",
    "σ = (x[ipos2] - x[imin2])/2\n",
    "print(f\"σ = {σ:0.2f}\")"
   ]
  },
  {
   "cell_type": "markdown",
   "id": "1f51d117-a71f-468a-b76f-659c296b646b",
   "metadata": {},
   "source": [
    "Luego, la función tiene la forma\n"
   ]
  },
  {
   "cell_type": "code",
   "execution_count": 70,
   "id": "c957609a-66c3-4205-9fc7-67d4474afe5a",
   "metadata": {},
   "outputs": [
    {
     "data": {
      "image/png": "[encoded data removed]",
      "text/plain": [
       "<Figure size 360x360 with 1 Axes>"
      ]
     },
     "metadata": {
      "needs_background": "light"
     },
     "output_type": "display_data"
    }
   ],
   "source": [
    "def gauss_ojo(x):\n",
    "    return M.nominal_value*np.exp(-(1/2)*((x-μ)/σ)**2) + b0.nominal_value + b1.nominal_value*(x-μ)\n",
    "\n",
    "fig, ax = plt.subplots(figsize = (5,5))\n",
    "ax.plot(xg, gauss_ojo(xg))\n",
    "ax.scatter(x, y, s = 15, color = \"purple\")\n",
    "ax.errorbar(x, y, yerr = dy, fmt = \"none\", color = \"purple\")\n",
    "ax.set_xticks(np.arange(100, 200, 10))\n",
    "ax.set_xlim((105, 185))\n",
    "\n",
    "xevents = EventCollection(x, color = \"k\", linelength = int(10100), linewidth = 1)\n",
    "ax.add_collection(xevents)\n",
    "ax.grid(True, axis = \"both\")\n",
    "\n",
    "plt.show()"
   ]
  },
  {
   "cell_type": "code",
   "execution_count": null,
   "id": "0e4c969b-60ae-4efe-ad8d-0b47cb1d5aa3",
   "metadata": {},
   "outputs": [],
   "source": [
    "import lmfit"
   ]
  }
 ],
 "metadata": {
  "kernelspec": {
   "display_name": "Python 3 (ipykernel)",
   "language": "python",
   "name": "python3"
  },
  "language_info": {
   "codemirror_mode": {
    "name": "ipython",
    "version": 3
   },
   "file_extension": ".py",
   "mimetype": "text/x-python",
   "name": "python",
   "nbconvert_exporter": "python",
   "pygments_lexer": "ipython3",
   "version": "3.9.12"
  }
 },
 "nbformat": 4,
 "nbformat_minor": 5
}
