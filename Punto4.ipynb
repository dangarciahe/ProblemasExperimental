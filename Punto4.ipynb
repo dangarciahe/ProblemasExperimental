{
 "cells": [
  {
   "cell_type": "markdown",
   "id": "39630074-b165-4958-8422-bd39e52e5494",
   "metadata": {},
   "source": [
    "## 4. Ajuste de la gaussiana\n",
    "\n",
    "**1. Grafique los datos**"
   ]
  },
  {
   "cell_type": "code",
   "execution_count": 1,
   "id": "9fbf159f-db76-4275-846a-ea42fc268203",
   "metadata": {},
   "outputs": [],
   "source": [
    "import pandas as pd\n",
    "import uncertainties as un\n",
    "from uncertainties import umath\n",
    "from uncertainties import ufloat\n",
    "import matplotlib.pyplot as plt\n",
    "import numpy as np"
   ]
  },
  {
   "cell_type": "code",
   "execution_count": 23,
   "id": "eca4280b-5bc2-4147-83c4-a1cb742dc555",
   "metadata": {},
   "outputs": [
    {
     "data": {
      "text/html": [
       "<div>\n",
       "<style scoped>\n",
       "    .dataframe tbody tr th:only-of-type {\n",
       "        vertical-align: middle;\n",
       "    }\n",
       "\n",
       "    .dataframe tbody tr th {\n",
       "        vertical-align: top;\n",
       "    }\n",
       "\n",
       "    .dataframe thead th {\n",
       "        text-align: right;\n",
       "    }\n",
       "</style>\n",
       "<table border=\"1\" class=\"dataframe\">\n",
       "  <thead>\n",
       "    <tr style=\"text-align: right;\">\n",
       "      <th></th>\n",
       "      <th>x(cm)</th>\n",
       "      <th>y(cuentas)</th>\n",
       "      <th>dy(cuentas)</th>\n",
       "    </tr>\n",
       "  </thead>\n",
       "  <tbody>\n",
       "    <tr>\n",
       "      <th>0</th>\n",
       "      <td>110.0</td>\n",
       "      <td>5975</td>\n",
       "      <td>92</td>\n",
       "    </tr>\n",
       "    <tr>\n",
       "      <th>1</th>\n",
       "      <td>112.5</td>\n",
       "      <td>5921</td>\n",
       "      <td>126</td>\n",
       "    </tr>\n",
       "    <tr>\n",
       "      <th>2</th>\n",
       "      <td>115.0</td>\n",
       "      <td>5763</td>\n",
       "      <td>16</td>\n",
       "    </tr>\n",
       "    <tr>\n",
       "      <th>3</th>\n",
       "      <td>117.5</td>\n",
       "      <td>5869</td>\n",
       "      <td>114</td>\n",
       "    </tr>\n",
       "    <tr>\n",
       "      <th>4</th>\n",
       "      <td>120.0</td>\n",
       "      <td>5818</td>\n",
       "      <td>89</td>\n",
       "    </tr>\n",
       "    <tr>\n",
       "      <th>5</th>\n",
       "      <td>122.5</td>\n",
       "      <td>5740</td>\n",
       "      <td>51</td>\n",
       "    </tr>\n",
       "    <tr>\n",
       "      <th>6</th>\n",
       "      <td>125.0</td>\n",
       "      <td>5751</td>\n",
       "      <td>112</td>\n",
       "    </tr>\n",
       "    <tr>\n",
       "      <th>7</th>\n",
       "      <td>127.5</td>\n",
       "      <td>5808</td>\n",
       "      <td>87</td>\n",
       "    </tr>\n",
       "    <tr>\n",
       "      <th>8</th>\n",
       "      <td>130.0</td>\n",
       "      <td>5694</td>\n",
       "      <td>116</td>\n",
       "    </tr>\n",
       "    <tr>\n",
       "      <th>9</th>\n",
       "      <td>132.5</td>\n",
       "      <td>5690</td>\n",
       "      <td>92</td>\n",
       "    </tr>\n",
       "    <tr>\n",
       "      <th>10</th>\n",
       "      <td>135.0</td>\n",
       "      <td>5714</td>\n",
       "      <td>121</td>\n",
       "    </tr>\n",
       "    <tr>\n",
       "      <th>11</th>\n",
       "      <td>137.5</td>\n",
       "      <td>5833</td>\n",
       "      <td>39</td>\n",
       "    </tr>\n",
       "    <tr>\n",
       "      <th>12</th>\n",
       "      <td>140.0</td>\n",
       "      <td>5764</td>\n",
       "      <td>54</td>\n",
       "    </tr>\n",
       "    <tr>\n",
       "      <th>13</th>\n",
       "      <td>142.5</td>\n",
       "      <td>5864</td>\n",
       "      <td>86</td>\n",
       "    </tr>\n",
       "    <tr>\n",
       "      <th>14</th>\n",
       "      <td>145.0</td>\n",
       "      <td>6050</td>\n",
       "      <td>84</td>\n",
       "    </tr>\n",
       "    <tr>\n",
       "      <th>15</th>\n",
       "      <td>147.5</td>\n",
       "      <td>6139</td>\n",
       "      <td>151</td>\n",
       "    </tr>\n",
       "    <tr>\n",
       "      <th>16</th>\n",
       "      <td>150.0</td>\n",
       "      <td>6241</td>\n",
       "      <td>127</td>\n",
       "    </tr>\n",
       "    <tr>\n",
       "      <th>17</th>\n",
       "      <td>152.5</td>\n",
       "      <td>6348</td>\n",
       "      <td>17</td>\n",
       "    </tr>\n",
       "    <tr>\n",
       "      <th>18</th>\n",
       "      <td>155.0</td>\n",
       "      <td>6147</td>\n",
       "      <td>61</td>\n",
       "    </tr>\n",
       "    <tr>\n",
       "      <th>19</th>\n",
       "      <td>157.5</td>\n",
       "      <td>5818</td>\n",
       "      <td>64</td>\n",
       "    </tr>\n",
       "    <tr>\n",
       "      <th>20</th>\n",
       "      <td>160.0</td>\n",
       "      <td>5562</td>\n",
       "      <td>125</td>\n",
       "    </tr>\n",
       "    <tr>\n",
       "      <th>21</th>\n",
       "      <td>162.5</td>\n",
       "      <td>5517</td>\n",
       "      <td>108</td>\n",
       "    </tr>\n",
       "    <tr>\n",
       "      <th>22</th>\n",
       "      <td>165.0</td>\n",
       "      <td>5541</td>\n",
       "      <td>121</td>\n",
       "    </tr>\n",
       "    <tr>\n",
       "      <th>23</th>\n",
       "      <td>167.5</td>\n",
       "      <td>5347</td>\n",
       "      <td>26</td>\n",
       "    </tr>\n",
       "    <tr>\n",
       "      <th>24</th>\n",
       "      <td>170.0</td>\n",
       "      <td>5223</td>\n",
       "      <td>141</td>\n",
       "    </tr>\n",
       "    <tr>\n",
       "      <th>25</th>\n",
       "      <td>172.5</td>\n",
       "      <td>5295</td>\n",
       "      <td>144</td>\n",
       "    </tr>\n",
       "    <tr>\n",
       "      <th>26</th>\n",
       "      <td>175.0</td>\n",
       "      <td>5242</td>\n",
       "      <td>108</td>\n",
       "    </tr>\n",
       "    <tr>\n",
       "      <th>27</th>\n",
       "      <td>177.5</td>\n",
       "      <td>5158</td>\n",
       "      <td>37</td>\n",
       "    </tr>\n",
       "    <tr>\n",
       "      <th>28</th>\n",
       "      <td>180.0</td>\n",
       "      <td>5170</td>\n",
       "      <td>73</td>\n",
       "    </tr>\n",
       "  </tbody>\n",
       "</table>\n",
       "</div>"
      ],
      "text/plain": [
       "    x(cm)  y(cuentas)  dy(cuentas)\n",
       "0   110.0        5975           92\n",
       "1   112.5        5921          126\n",
       "2   115.0        5763           16\n",
       "3   117.5        5869          114\n",
       "4   120.0        5818           89\n",
       "5   122.5        5740           51\n",
       "6   125.0        5751          112\n",
       "7   127.5        5808           87\n",
       "8   130.0        5694          116\n",
       "9   132.5        5690           92\n",
       "10  135.0        5714          121\n",
       "11  137.5        5833           39\n",
       "12  140.0        5764           54\n",
       "13  142.5        5864           86\n",
       "14  145.0        6050           84\n",
       "15  147.5        6139          151\n",
       "16  150.0        6241          127\n",
       "17  152.5        6348           17\n",
       "18  155.0        6147           61\n",
       "19  157.5        5818           64\n",
       "20  160.0        5562          125\n",
       "21  162.5        5517          108\n",
       "22  165.0        5541          121\n",
       "23  167.5        5347           26\n",
       "24  170.0        5223          141\n",
       "25  172.5        5295          144\n",
       "26  175.0        5242          108\n",
       "27  177.5        5158           37\n",
       "28  180.0        5170           73"
      ]
     },
     "execution_count": 23,
     "metadata": {},
     "output_type": "execute_result"
    }
   ],
   "source": [
    "df = pd.read_csv(\"gauss+recta+incert.csv\")\n",
    "x = df.iloc[:,0].to_numpy()\n",
    "y = df.iloc[:,1].to_numpy()\n",
    "dy = df.iloc[:,2].to_numpy()\n",
    "df"
   ]
  },
  {
   "cell_type": "code",
   "execution_count": 24,
   "id": "0f9706b7-128a-4488-bd46-5f568863fc03",
   "metadata": {},
   "outputs": [
    {
     "data": {
      "image/png": "[encoded data removed]",
      "text/plain": [
       "<Figure size 396x396 with 1 Axes>"
      ]
     },
     "metadata": {
      "needs_background": "light"
     },
     "output_type": "display_data"
    }
   ],
   "source": [
    "from matplotlib.collections import EventCollection\n",
    "\n",
    "fig, ax = plt.subplots(figsize = (5.5,5.5))\n",
    "ax.scatter(x, y, s = 15, color = \"purple\")\n",
    "ax.errorbar(x, y, yerr = dy, fmt = \"none\", color = \"purple\")\n",
    "ax.set_xticks(np.arange(100, 200, 10))\n",
    "ax.set_xlim((105, 185))\n",
    "ax.set_ylabel(r\"$y$ (cuentas)\")\n",
    "ax.set_xlabel(r\"$x$ (cm)\")\n",
    "\n",
    "xevents = EventCollection(x, color = \"k\", linelength = int(10100), linewidth = 1)\n",
    "ax.add_collection(xevents)\n",
    "ax.grid(True, axis = \"both\")\n",
    "fig.savefig(\"datos_brutos_xy.png\")\n",
    "\n",
    "plt.show()"
   ]
  },
  {
   "cell_type": "markdown",
   "id": "2c4f301a-f0ec-4a95-9ad6-7f1f252cbf15",
   "metadata": {},
   "source": [
    "Según la grilla tenemos que la media es\n",
    "\n",
    "\\begin{equation}\n",
    "\\begin{split}\n",
    "    \\mu \\approx 152.5 \\text{cm}\\,,\\\\\n",
    "\\end{split}\n",
    "\\end{equation}\n",
    "\n",
    "Ahora, para determinar los parámetros de la función recta de fondo de la gaussiana tomamos dos puntos de los extremos de la gráfica para los cuales la influencia de la función gaussiana sería reducida y calculamos a partir de ellos la pediente de la recta\n",
    "\n",
    "\\begin{equation}\n",
    "\\begin{split}\n",
    "    b_1 = \\frac{y_{1} - y_{0}}{x_{1}-x_{0}}\n",
    "\\end{split}\n",
    "\\end{equation}"
   ]
  },
  {
   "cell_type": "code",
   "execution_count": 4,
   "id": "a6a0a1fc-ca15-496d-97d7-344b8e4675fc",
   "metadata": {},
   "outputs": [
    {
     "name": "stdout",
     "output_type": "stream",
     "text": [
      "b1 = -12+/-2\n",
      "110.0 (5.97+/-0.09)e+03\n",
      "180.0 (5.17+/-0.07)e+03\n"
     ]
    }
   ],
   "source": [
    "y0 = ufloat(y[0], dy[0])\n",
    "y1 = ufloat(y[-1], dy[-1])\n",
    "x0 = x[0]\n",
    "x1 = x[-1]\n",
    "\n",
    "b1 = (y1-y0)/(x1-x0)\n",
    "print(f\"b1 = {b1:1.0f}\")\n",
    "print(x0, y0)\n",
    "print(x1, y1)"
   ]
  },
  {
   "cell_type": "markdown",
   "id": "22db0d67-5029-44eb-8c49-19b3545b08ab",
   "metadata": {},
   "source": [
    "Con esto, tenemos que, para un valor conocido como en el valor extremo utilizado para hallar la pediente \n",
    "\n",
    "\\begin{equation}\n",
    "\\begin{split}\n",
    "    y_1 \\approx &  r(x_1) = b_0 + b_1(x_1 - \\mu)\\,,\\\\\n",
    "    b_0 =& y_1 - b_1(x_1 - \\mu)\\,,\n",
    "\\end{split}\n",
    "\\end{equation}\n",
    "\n",
    "tal que"
   ]
  },
  {
   "cell_type": "code",
   "execution_count": 5,
   "id": "1019d986-a99f-4eff-b9a1-212f31e27b9b",
   "metadata": {},
   "outputs": [
    {
     "name": "stdout",
     "output_type": "stream",
     "text": [
      "b0 = 5486+/-57\n"
     ]
    }
   ],
   "source": [
    "μ = 152.5\n",
    "b0 = y1 - b1*(x1-μ)\n",
    "print(f\"b0 = {b0:1.0f}\")"
   ]
  },
  {
   "cell_type": "markdown",
   "id": "6fadfb90-2679-43e6-9ec1-da13ac67cdb0",
   "metadata": {},
   "source": [
    "Ahora, la altura desde la base gaussiana hasta su máximo está dada como\n",
    "\n",
    "\\begin{equation}\n",
    "    M = f(\\mu)-b_0\n",
    "\\end{equation}\n",
    "\n",
    "con lo que con el valor de la media aproximado, buscamos el valor correspondiente en la gaussiana como"
   ]
  },
  {
   "cell_type": "code",
   "execution_count": 6,
   "id": "8c2b3683-03da-43b0-8309-5b66b5666629",
   "metadata": {},
   "outputs": [
    {
     "name": "stdout",
     "output_type": "stream",
     "text": [
      "f(μ) = 6348+/-17\n",
      "M = 862+/-60\n"
     ]
    }
   ],
   "source": [
    "for i in range(len(y)):\n",
    "    imax = i\n",
    "    if x[i]>152:\n",
    "        break\n",
    "        \n",
    "fμ = ufloat(y[imax], dy[imax])\n",
    "\n",
    "print(r\"f(μ)\"+f\" = {fμ:1.0f}\")\n",
    "\n",
    "M = fμ-b0\n",
    "\n",
    "print(f\"M = {M:1.0f}\")"
   ]
  },
  {
   "cell_type": "markdown",
   "id": "038e062a-019d-4554-94f8-9e666382ea0f",
   "metadata": {},
   "source": [
    "Luego, con todos estos valores despejamos la desviación estándar para el valor de $x_g$, el cual es un valor de x tal que la contribución gaussiana se vuelve en notable en los datos, diferente a la media\n",
    "\n",
    "\\begin{equation}\n",
    "\\begin{split}\n",
    "    f(x_g) = y_g =& M \\exp\\Big[-\\frac{1}{2}\\Big(\\frac{x_g-\\mu}{\\sigma}\\Big)^2\\Big]+ b_0 + b_1 (x_g-\\mu)\\,,\\\\\n",
    "    M \\exp\\Big[-\\frac{1}{2}\\Big(\\frac{x_g-\\mu}{\\sigma}\\Big)^2\\Big] =& y_g - b_0 - b_1 (x_g-\\mu)\\,,\\\\\n",
    "    \\ln(M) - \\frac{1}{2}\\Big(\\frac{x_g-\\mu}{\\sigma}\\Big)^2 =& \\ln(y_g - b_0 - b_1 (x_g-\\mu))\\,,\\\\\n",
    "    \\ln(M)- \\ln(y_g - b_0 - b_1 (x_g-\\mu)) =& \\frac{1}{2}\\Big(\\frac{x_g-\\mu}{\\sigma}\\Big)^2\\,,\\\\\n",
    "    \\Big(\\frac{x_g-\\mu}{\\sigma}\\Big) =& \\sqrt{2\\Big\\{\\ln(M)- \\ln(y_g - b_0 - b_1 (x_g-\\mu))\\Big\\}}\\,,\\\\\n",
    "    \\sigma =& \\frac{x_g-\\mu}{\\sqrt{2\\Big\\{\\ln(M)- \\ln(y_g - b_0 - b_1 (x_g-\\mu))\\Big\\}}}\\,,\n",
    "\\end{split}\n",
    "\\end{equation}\n",
    "\n",
    "Tal que"
   ]
  },
  {
   "cell_type": "code",
   "execution_count": null,
   "id": "61d72635-0602-4beb-bf06-1e85b9e063b7",
   "metadata": {},
   "outputs": [],
   "source": []
  },
  {
   "cell_type": "markdown",
   "id": "bdbb1923-7bb5-4eb8-9284-997a24f10531",
   "metadata": {},
   "source": [
    "Sabemos que para $M/2$ el ancho de la función de gauss es de $2\\sigma$, luego, tomando la base de la recta tal que la mitad de la gaussiana se encuentre en\n",
    "\n",
    "\\begin{equation}\n",
    "\\begin{split}\n",
    "    r_{1/2} =& \\Big[\\frac{M}{2}+b_0\\big] + b_1(x-\\mu)\\,,\\\\\n",
    "\\end{split}\n",
    "\\end{equation}\n",
    "\n",
    "tal que los datos más cercanos a esta recta serán los tomados para calcular \"a ojo\" el valor de $\\sigma$"
   ]
  },
  {
   "cell_type": "code",
   "execution_count": 26,
   "id": "8d2c8486-3f7b-46c1-aaed-aa67b1d239ce",
   "metadata": {},
   "outputs": [
    {
     "data": {
      "image/png": "[encoded data removed]",
      "text/plain": [
       "<Figure size 396x396 with 1 Axes>"
      ]
     },
     "metadata": {
      "needs_background": "light"
     },
     "output_type": "display_data"
    }
   ],
   "source": [
    "\n",
    "def midle_line(X):\n",
    "    return M.nominal_value/2 + b0.nominal_value + b1.nominal_value*(X - μ)\n",
    "    \n",
    "\n",
    "xg = np.linspace(105, 195, 1000)\n",
    "yg = midle_line(xg)\n",
    "\n",
    "fig, ax = plt.subplots(figsize = (5.5,5.5))\n",
    "ax.plot(xg, yg)\n",
    "ax.scatter(x, y, s = 15, color = \"purple\")\n",
    "ax.errorbar(x, y, yerr = dy, fmt = \"none\", color = \"purple\")\n",
    "ax.set_xticks(np.arange(100, 200, 10))\n",
    "ax.set_xlim((105, 185))\n",
    "ax.set_ylabel(r\"$y$ (cuentas)\")\n",
    "ax.set_xlabel(r\"$x$ (cm)\")\n",
    "\n",
    "xevents = EventCollection(x, color = \"k\", linelength = int(10100), linewidth = 1)\n",
    "ax.add_collection(xevents)\n",
    "ax.grid(True, axis = \"both\")\n",
    "fig.savefig(\"middle_line.pdf\")\n",
    "\n",
    "plt.show()"
   ]
  },
  {
   "cell_type": "code",
   "execution_count": 22,
   "id": "a62c784b-af84-45cd-b0c3-d8d8a2f778fe",
   "metadata": {},
   "outputs": [
    {
     "name": "stdout",
     "output_type": "stream",
     "text": [
      "σ = 6.25\n",
      "157.5 145.0\n"
     ]
    }
   ],
   "source": [
    "for i in range(len(x)):\n",
    "    imin2 = i\n",
    "    if x[i]>144:\n",
    "        break\n",
    "        \n",
    "for i in range(len(x)):\n",
    "    ipos2 = i\n",
    "    if x[i]>156:\n",
    "        break\n",
    "        \n",
    "σ = (x[ipos2] - x[imin2])/2\n",
    "print(f\"σ = {σ:0.2f}\")\n",
    "print(x[ipos2], x[imin2])"
   ]
  },
  {
   "cell_type": "markdown",
   "id": "1f51d117-a71f-468a-b76f-659c296b646b",
   "metadata": {},
   "source": [
    "Luego, la función tiene la forma\n"
   ]
  },
  {
   "cell_type": "code",
   "execution_count": 21,
   "id": "c957609a-66c3-4205-9fc7-67d4474afe5a",
   "metadata": {},
   "outputs": [
    {
     "data": {
      "image/png": "[encoded data removed]",
      "text/plain": [
       "<Figure size 360x360 with 1 Axes>"
      ]
     },
     "metadata": {
      "needs_background": "light"
     },
     "output_type": "display_data"
    }
   ],
   "source": [
    "def gauss_ojo(x):\n",
    "    return M.nominal_value*np.exp(-(1/2)*((x-μ)/σ)**2) + b0.nominal_value + b1.nominal_value*(x-μ)\n",
    "\n",
    "fig, ax = plt.subplots(figsize = (5,5))\n",
    "ax.plot(xg, gauss_ojo(xg))\n",
    "ax.scatter(x, y, s = 15, color = \"purple\")\n",
    "ax.errorbar(x, y, yerr = dy, fmt = \"none\", color = \"purple\")\n",
    "ax.set_xticks(np.arange(100, 200, 10))\n",
    "ax.set_xlim((105, 185))\n",
    "ax.set_ylabel(r\"$y$ (cuentas)\")\n",
    "ax.set_xlabel(r\"$x$ (cm)\")\n",
    "\n",
    "xevents = EventCollection(x, color = \"k\", linelength = int(9950), linewidth = 1)\n",
    "ax.add_collection(xevents)\n",
    "ax.grid(True, axis = \"both\")\n",
    "\n",
    "plt.show()"
   ]
  },
  {
   "cell_type": "code",
   "execution_count": 10,
   "id": "0e4c969b-60ae-4efe-ad8d-0b47cb1d5aa3",
   "metadata": {},
   "outputs": [
    {
     "name": "stdout",
     "output_type": "stream",
     "text": [
      "[[Fit Statistics]]\n",
      "    # fitting method   = leastsq\n",
      "    # function evals   = 43\n",
      "    # data points      = 29\n",
      "    # variables        = 5\n",
      "    chi-square         = 36.2461978\n",
      "    reduced chi-square = 1.51025824\n",
      "    Akaike info crit   = 16.4681211\n",
      "    Bayesian info crit = 23.3046002\n",
      "[[Variables]]\n",
      "    m:      933.766019 +/- 31.4591280 (3.37%) (init = 861.75)\n",
      "    mu:     150.603439 +/- 0.45902062 (0.30%) (init = 152.5)\n",
      "    sigma:  6.66538127 +/- 0.42581989 (6.39%) (init = 6.25)\n",
      "    B0:     5453.92190 +/- 20.3403703 (0.37%) (init = 5486.25)\n",
      "    B1:    -9.41530161 +/- 0.57896850 (6.15%) (init = -11.5)\n",
      "[[Correlations]] (unreported correlations are < 0.100)\n",
      "    C(B0, B1)    = 0.623\n",
      "    C(sigma, B0) = -0.606\n",
      "    C(m, mu)     = -0.493\n",
      "    C(mu, B0)    = -0.437\n",
      "    C(mu, sigma) = 0.413\n",
      "    C(sigma, B1) = -0.378\n",
      "    C(mu, B1)    = -0.301\n",
      "    C(m, B0)     = -0.248\n",
      "    C(m, sigma)  = -0.177\n",
      "    C(m, B1)     = -0.154\n"
     ]
    }
   ],
   "source": [
    "from lmfit import Parameters, fit_report, minimize\n",
    "import scipy\n",
    "\n",
    "p_true = Parameters()\n",
    "p_true.add('amp', value=14.0)\n",
    "p_true.add('period', value=5.46)\n",
    "p_true.add('shift', value=0.123)\n",
    "p_true.add('decay', value=0.032)\n",
    "\n",
    "\n",
    "def residual(pars, x, data, sig):\n",
    "    \"\"\"Model a decaying sine wave and subtract data.\"\"\"\n",
    "    vals = pars.valuesdict()\n",
    "    m = vals['m']\n",
    "    mu = vals['mu']\n",
    "    sigma = vals['sigma']\n",
    "    B0 = vals['B0']\n",
    "    B1 = vals['B1']\n",
    "    \n",
    "    model = m*np.exp(-(1/2)*((x-mu)/sigma)**2) + B0 + B1*(x-mu)\n",
    "    resids = model-data\n",
    "    weighted = np.sqrt(resids ** 2 / sig ** 2)\n",
    "    return weighted\n",
    "\n",
    "fit_params = Parameters()\n",
    "fit_params.add('m', value= M.nominal_value)\n",
    "fit_params.add('mu', value= μ)\n",
    "fit_params.add('sigma', value= σ)\n",
    "fit_params.add('B0', value = b0.nominal_value)\n",
    "fit_params.add('B1', value= b1.nominal_value)\n",
    "\n",
    "minim = minimize(residual, fit_params, args=(x,), kws={'data': y, \"sig\": dy})\n",
    "\n",
    "out = minim.params\n",
    "print(fit_report(minim))"
   ]
  },
  {
   "cell_type": "code",
   "execution_count": 11,
   "id": "2a697342-41e7-463f-9b1c-5d1a9d310490",
   "metadata": {},
   "outputs": [
    {
     "data": {
      "image/png": "[encoded data removed]",
      "text/plain": [
       "<Figure size 360x360 with 1 Axes>"
      ]
     },
     "metadata": {
      "needs_background": "light"
     },
     "output_type": "display_data"
    }
   ],
   "source": [
    "gauss_fitted = lambda X: out[\"m\"].value*np.exp(-(1/2)*((X-out[\"mu\"].value)/out[\"sigma\"].value)**2) + out[\"B0\"].value + out[\"B1\"].value*(X-out[\"mu\"].value)\n",
    "\n",
    "fig, ax = plt.subplots(figsize = (5,5))\n",
    "ax.plot(xg, gauss_fitted(xg))\n",
    "ax.scatter(x, y, s = 15, color = \"purple\")\n",
    "ax.errorbar(x, y, yerr = dy, fmt = \"none\", color = \"purple\")\n",
    "ax.set_xticks(np.arange(100, 200, 10))\n",
    "ax.set_xlim((105, 185))\n",
    "\n",
    "xevents = EventCollection(x, color = \"k\", linelength = int(10100), linewidth = 1)\n",
    "ax.add_collection(xevents)\n",
    "ax.grid(True, axis = \"both\")\n",
    "\n",
    "plt.show()"
   ]
  },
  {
   "cell_type": "code",
   "execution_count": 12,
   "id": "fb666d12-bb7e-4b11-935c-b7de4bc4e077",
   "metadata": {},
   "outputs": [
    {
     "name": "stdout",
     "output_type": "stream",
     "text": [
      "15601.020092108272\n"
     ]
    }
   ],
   "source": [
    "M_fit = out[\"m\"].value\n",
    "σ_fit = out[\"sigma\"].value\n",
    "\n",
    "I = np.sqrt(2*np.pi)*M_fit*σ_fit\n",
    "print(I)"
   ]
  },
  {
   "cell_type": "code",
   "execution_count": null,
   "id": "44a3fd19-a028-4464-a6ba-bb71ce72ab9c",
   "metadata": {},
   "outputs": [],
   "source": [
    "from sklearn.metrics import r2_score"
   ]
  }
 ],
 "metadata": {
  "kernelspec": {
   "display_name": "Python 3 (ipykernel)",
   "language": "python",
   "name": "python3"
  },
  "language_info": {
   "codemirror_mode": {
    "name": "ipython",
    "version": 3
   },
   "file_extension": ".py",
   "mimetype": "text/x-python",
   "name": "python",
   "nbconvert_exporter": "python",
   "pygments_lexer": "ipython3",
   "version": "3.9.12"
  }
 },
 "nbformat": 4,
 "nbformat_minor": 5
}
