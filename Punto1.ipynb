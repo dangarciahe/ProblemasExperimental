{
 "cells": [
  {
   "cell_type": "code",
   "execution_count": 8,
   "metadata": {
    "ExecuteTime": {
     "end_time": "2022-10-11T01:14:09.140736Z",
     "start_time": "2022-10-11T01:14:09.109252Z"
    }
   },
   "outputs": [
    {
     "data": {
      "text/html": [
       "<div>\n",
       "<style scoped>\n",
       "    .dataframe tbody tr th:only-of-type {\n",
       "        vertical-align: middle;\n",
       "    }\n",
       "\n",
       "    .dataframe tbody tr th {\n",
       "        vertical-align: top;\n",
       "    }\n",
       "\n",
       "    .dataframe thead th {\n",
       "        text-align: right;\n",
       "    }\n",
       "</style>\n",
       "<table border=\"1\" class=\"dataframe\">\n",
       "  <thead>\n",
       "    <tr style=\"text-align: right;\">\n",
       "      <th></th>\n",
       "      <th>lectura</th>\n",
       "      <th>voltaje(V)</th>\n",
       "    </tr>\n",
       "  </thead>\n",
       "  <tbody>\n",
       "    <tr>\n",
       "      <th>0</th>\n",
       "      <td>0</td>\n",
       "      <td>95.36</td>\n",
       "    </tr>\n",
       "    <tr>\n",
       "      <th>1</th>\n",
       "      <td>1</td>\n",
       "      <td>87.09</td>\n",
       "    </tr>\n",
       "    <tr>\n",
       "      <th>2</th>\n",
       "      <td>2</td>\n",
       "      <td>89.22</td>\n",
       "    </tr>\n",
       "    <tr>\n",
       "      <th>3</th>\n",
       "      <td>3</td>\n",
       "      <td>91.58</td>\n",
       "    </tr>\n",
       "    <tr>\n",
       "      <th>4</th>\n",
       "      <td>4</td>\n",
       "      <td>95.88</td>\n",
       "    </tr>\n",
       "    <tr>\n",
       "      <th>...</th>\n",
       "      <td>...</td>\n",
       "      <td>...</td>\n",
       "    </tr>\n",
       "    <tr>\n",
       "      <th>99</th>\n",
       "      <td>99</td>\n",
       "      <td>91.91</td>\n",
       "    </tr>\n",
       "    <tr>\n",
       "      <th>100</th>\n",
       "      <td>100</td>\n",
       "      <td>88.01</td>\n",
       "    </tr>\n",
       "    <tr>\n",
       "      <th>101</th>\n",
       "      <td>101</td>\n",
       "      <td>95.28</td>\n",
       "    </tr>\n",
       "    <tr>\n",
       "      <th>102</th>\n",
       "      <td>102</td>\n",
       "      <td>99.31</td>\n",
       "    </tr>\n",
       "    <tr>\n",
       "      <th>103</th>\n",
       "      <td>103</td>\n",
       "      <td>90.36</td>\n",
       "    </tr>\n",
       "  </tbody>\n",
       "</table>\n",
       "<p>104 rows × 2 columns</p>\n",
       "</div>"
      ],
      "text/plain": [
       "     lectura  voltaje(V)\n",
       "0          0       95.36\n",
       "1          1       87.09\n",
       "2          2       89.22\n",
       "3          3       91.58\n",
       "4          4       95.88\n",
       "..       ...         ...\n",
       "99        99       91.91\n",
       "100      100       88.01\n",
       "101      101       95.28\n",
       "102      102       99.31\n",
       "103      103       90.36\n",
       "\n",
       "[104 rows x 2 columns]"
      ]
     },
     "execution_count": 8,
     "metadata": {},
     "output_type": "execute_result"
    }
   ],
   "source": [
    "import numpy as np\n",
    "import pandas as pd\n",
    "import matplotlib.pyplot as plt \n",
    "\n",
    "datos = pd.read_csv(\"voltajes_tarea.csv\")\n",
    "N = len(datos[\"voltaje(V)\"])\n",
    "\n",
    "datos"
   ]
  },
  {
   "cell_type": "markdown",
   "metadata": {},
   "source": [
    "---\n",
    "## 1.1"
   ]
  },
  {
   "cell_type": "code",
   "execution_count": 9,
   "metadata": {
    "ExecuteTime": {
     "end_time": "2022-10-11T01:14:09.160091Z",
     "start_time": "2022-10-11T01:14:09.148530Z"
    }
   },
   "outputs": [
    {
     "name": "stdout",
     "output_type": "stream",
     "text": [
      "Promedio: 94.36 V\n",
      "Desviación estándar: 5.84 V\n"
     ]
    }
   ],
   "source": [
    "mu = np.average(datos[\"voltaje(V)\"])\n",
    "sigma = np.std(datos[\"voltaje(V)\"])\n",
    "\n",
    "print(f'Promedio: {mu:0.2f} V')\n",
    "print(f'Desviación estándar: {sigma:0.2f} V')"
   ]
  },
  {
   "cell_type": "code",
   "execution_count": 10,
   "metadata": {
    "ExecuteTime": {
     "end_time": "2022-10-11T01:14:09.474213Z",
     "start_time": "2022-10-11T01:14:09.166194Z"
    }
   },
   "outputs": [
    {
     "data": {
      "image/png": "[encoded data removed]",
      "text/plain": [
       "<Figure size 640x480 with 1 Axes>"
      ]
     },
     "metadata": {},
     "output_type": "display_data"
    }
   ],
   "source": [
    "plt.plot(datos[\"lectura\"], datos[\"voltaje(V)\"], 'bo', markersize=5)\n",
    "plt.figsize=(7, 6),\n",
    "plt.axhline(y=mu, color='black', linestyle='-', linewidth=2)\n",
    "plt.axhline(y=mu+sigma, color='red', linestyle='--', linewidth=2) ## Falta agregar esta info en la grafica\n",
    "plt.axhline(y=mu-sigma, color='red', linestyle='--', linewidth=2)\n",
    "\n",
    "\n",
    "plt.xlabel(\"Número de lectura\")\n",
    "plt.ylabel(\"Voltaje(V)\")\n",
    "plt.grid()\n",
    "plt.show()"
   ]
  },
  {
   "cell_type": "markdown",
   "metadata": {},
   "source": [
    "---\n",
    "## 1.2"
   ]
  },
  {
   "cell_type": "code",
   "execution_count": 11,
   "metadata": {
    "ExecuteTime": {
     "end_time": "2022-10-11T01:14:18.075796Z",
     "start_time": "2022-10-11T01:14:15.645517Z"
    }
   },
   "outputs": [
    {
     "data": {
      "image/png": "[encoded data removed]",
      "text/plain": [
       "<Figure size 640x480 with 2 Axes>"
      ]
     },
     "metadata": {},
     "output_type": "display_data"
    }
   ],
   "source": [
    "#https://matplotlib.org/stable/gallery/subplots_axes_and_figures/subplots_demo.html\n",
    "delta1 = 1\n",
    "delta2 = 2\n",
    "\n",
    "vmax = max(datos[\"voltaje(V)\"])\n",
    "vmin = min(datos[\"voltaje(V)\"])\n",
    "Delta = vmax-vmin\n",
    "\n",
    "\n",
    "V1_bins = np.linspace(int(vmin), int(vmax), int(Delta/delta1)+1)\n",
    "V2_bins = np.linspace(int(vmin), int(vmax), int(Delta/delta2)+1)\n",
    "\n",
    "V1_hist, V1_bins = np.histogram(datos[\"voltaje(V)\"], bins=V1_bins)\n",
    "V2_hist, V2_bins = np.histogram(datos[\"voltaje(V)\"], bins=V2_bins)\n",
    "\n",
    "\n",
    "center1 = (V1_bins[:-1] + V1_bins[1:]) / 2\n",
    "center2 = (V2_bins[:-1] + V2_bins[1:]) / 2\n",
    "\n",
    "fig = plt.figure()\n",
    "gs = fig.add_gridspec(2, hspace=0) # Sin espacio entre las gráficas\n",
    "axis = gs.subplots(sharex=True, sharey=False)\n",
    "\n",
    "\n",
    "fig.suptitle(\"uwu\")\n",
    "axis[0].bar(center1, V1_hist, label=f\"$\\Delta$V=1 V\", width=delta1, edgecolor=\"black\")\n",
    "axis[1].bar(center2, V2_hist, label=f\"$\\Delta$V=2 V\", width=delta2, edgecolor=\"black\")\n",
    "\n",
    "for ii in range (len(axis)):\n",
    "    axis[ii].set(ylabel=\"frecuencia\")\n",
    "    axis[ii].legend()\n",
    "    axis[ii].label_outer() #Quita los ticks de las gráficas no fronteras\n",
    "    axis[ii].minorticks_on()\n",
    "    axis[ii].grid(which=\"both\")\n",
    "    axis[ii].set_axisbelow(True)\n",
    "\n",
    "\n",
    "plt.xlim(int(vmin) - (vmax-vmin)*0.03, int(vmax) + (vmax-vmin)*0.03)\n",
    "plt.xlabel(\"voltaje (V)\")\n",
    "#plt.savefig(\"12.pdf\")\n",
    "plt.show()"
   ]
  },
  {
   "cell_type": "markdown",
   "metadata": {},
   "source": [
    "---\n",
    "## 1.3"
   ]
  },
  {
   "cell_type": "code",
   "execution_count": 12,
   "metadata": {
    "ExecuteTime": {
     "end_time": "2022-10-11T01:14:18.086975Z",
     "start_time": "2022-10-11T01:14:18.080955Z"
    }
   },
   "outputs": [],
   "source": [
    "aux = np.zeros(N)\n",
    "for ii in range (N):\n",
    "    aux[ii] = 1"
   ]
  },
  {
   "cell_type": "code",
   "execution_count": 16,
   "metadata": {
    "ExecuteTime": {
     "end_time": "2022-10-11T01:15:03.413322Z",
     "start_time": "2022-10-11T01:15:03.385298Z"
    }
   },
   "outputs": [
    {
     "name": "stdout",
     "output_type": "stream",
     "text": [
      "Promedio: 94.36 V\n",
      "Desviación estándar: 5.84 V\n",
      "\n",
      "mu_verificacion = 94.37\n",
      "sigma_verificacion = 4.54\n",
      "\n",
      "mu_1 = 94.18\n",
      "sigma_1 = 5.66\n",
      "\n",
      "mu_2 = 94.09\n",
      "sigma_2 = 5.27\n"
     ]
    }
   ],
   "source": [
    "def find_mu (n_barras, V, f):\n",
    "    suma = 0\n",
    "    suma2 = 0\n",
    "    for ii in range (n_barras):\n",
    "        Vprom = (V[ii] + V[ii+1])/2\n",
    "        suma2+= f[ii]\n",
    "        suma += Vprom*f[ii]\n",
    "    return suma/suma2\n",
    "\n",
    "def find_sigma (n_barras, V, f, prom):\n",
    "    suma = 0\n",
    "    for ii in range (n_barras-1):\n",
    "        Vprom = (V[ii] + V[ii+1])/2\n",
    "        suma += f[ii]*((Vprom-prom)**2)\n",
    "    return np.sqrt(suma/N)\n",
    "\n",
    "mu1 = find_mu(len(V1_hist), V1_bins, V1_hist)\n",
    "mu2 = find_mu(len(V2_hist), V2_bins, V2_hist)\n",
    "sigma1 = find_sigma(len(V1_hist), V1_bins, V1_hist, mu1)\n",
    "sigma2 = find_sigma(len(V2_hist), V2_bins, V2_hist, mu2)\n",
    "\n",
    "# Verificamos que la implementación coincida valores con los de numpy\n",
    "mu_original = find_mu(N-1, datos[\"voltaje(V)\"], aux)\n",
    "sigma_original = find_sigma(N-1, datos[\"voltaje(V)\"], aux, mu_original)\n",
    "\n",
    "\n",
    "print(f'Promedio: {mu:0.2f} V')\n",
    "print(f'Desviación estándar: {sigma:0.2f} V')\n",
    "print()\n",
    "print (f\"mu_verificacion = {mu_original:0.2f}\") \n",
    "print (f\"sigma_verificacion = {sigma_original:0.2f}\")\n",
    "print()\n",
    "print (f\"mu_1 = {mu1:0.2f}\")\n",
    "print (f\"sigma_1 = {sigma1:0.2f}\")\n",
    "print()\n",
    "print (f\"mu_2 = {mu2:0.2f}\")\n",
    "print (f\"sigma_2 = {sigma2:0.2f}\")"
   ]
  },
  {
   "cell_type": "code",
   "execution_count": null,
   "metadata": {},
   "outputs": [],
   "source": []
  }
 ],
 "metadata": {
  "kernelspec": {
   "display_name": "Python 3 (ipykernel)",
   "language": "python",
   "name": "python3"
  },
  "language_info": {
   "codemirror_mode": {
    "name": "ipython",
    "version": 3
   },
   "file_extension": ".py",
   "mimetype": "text/x-python",
   "name": "python",
   "nbconvert_exporter": "python",
   "pygments_lexer": "ipython3",
   "version": "3.10.7"
  },
  "latex_envs": {
   "LaTeX_envs_menu_present": true,
   "autoclose": true,
   "autocomplete": true,
   "bibliofile": "biblio.bib",
   "cite_by": "apalike",
   "current_citInitial": 1,
   "eqLabelWithNumbers": true,
   "eqNumInitial": 1,
   "hotkeys": {
    "equation": "Ctrl-E",
    "itemize": "Ctrl-I"
   },
   "labels_anchors": false,
   "latex_user_defs": false,
   "report_style_numbering": false,
   "user_envs_cfg": false
  }
 },
 "nbformat": 4,
 "nbformat_minor": 4
}
